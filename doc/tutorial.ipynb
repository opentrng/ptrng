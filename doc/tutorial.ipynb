{
 "cells": [
  {
   "cell_type": "markdown",
   "id": "ae44c5ab",
   "metadata": {},
   "source": [
    "![ERO](img/logo.png)\n",
    "\n",
    "**OpenTRNG** is an open-source framework for developing, and testing **Physical True Random Number Generators** (PTRNG). This project is dedicated to delivering the community open-source implementations of reference ring-oscillator based TRNGs. With **OpenTRNG**, you have the ability to:\n",
    "\n",
    "1. Emulate RO's physical noise\n",
    "2. Emulate Raw Random Numbers\n",
    "3. Simulate and run the PTRNG on hardware plateforms\n",
    "4. Analyze and evaluate the random outcomes\n",
    "\n",
    "Links:\n",
    "* Site: https://opentrng.org\n",
    "* GitHub: https://github.com/opentrng/ptrng"
   ]
  },
  {
   "cell_type": "markdown",
   "id": "101a1c71",
   "metadata": {},
   "source": [
    "# Introduction to TRNG"
   ]
  },
  {
   "cell_type": "markdown",
   "id": "6a4519d4",
   "metadata": {},
   "source": [
    "💡 What makes up a **Physical True Random Number Generator**?\n",
    "\n",
    "It starts with an **analog physical phenomenon**, which is sampled to digital, producing the **Raw Random Number** (RRN). This raw output undergoes **algorithmic post-processing** (the conditioner) to refine it into the **Intermediate Random Number** (IRN). Additionally, **online tests** monitor the quality of randomness, while a **total failure alarm** ensures reliability."
   ]
  },
  {
   "cell_type": "markdown",
   "id": "5ba7eb60",
   "metadata": {},
   "source": [
    "![PTRNG](img/ptrng.png)"
   ]
  },
  {
   "cell_type": "markdown",
   "id": "37a2fae7",
   "metadata": {},
   "source": [
    "This structure aligns with the **PTG.2** functionality class of **BSI AIS 20/31** and **NIST SP 800-22 90B** requirements, meeting stringent standards for secure random number generators."
   ]
  },
  {
   "cell_type": "markdown",
   "id": "25a8e0ac",
   "metadata": {},
   "source": [
    "💥 Random bits for TRNGs come from 𝗽𝗵𝘆𝘀𝗶𝗰𝗮𝗹 𝗻𝗼𝗶𝘀𝗲 sources.\n",
    "\n",
    "1. **Thermal noise**, uncorrelated and inherently unpredictable, remains the ideal entropy source.\n",
    "2. However, as technology node shrinks, **flicker noise** becomes more prominent\n",
    "\n",
    "Flicker noise is correlated over short periods but, with adequate conditions, can still be leveraged to produce reliable random bits."
   ]
  },
  {
   "cell_type": "markdown",
   "id": "04caa1b5",
   "metadata": {},
   "source": [
    "\n",
    "# Python imports"
   ]
  },
  {
   "cell_type": "code",
   "execution_count": null,
   "id": "f1154253-78ef-41a9-a604-0ebc8385ea4e",
   "metadata": {},
   "outputs": [],
   "source": [
    "import sys\n",
    "sys.path.append('../analysis')\n",
    "sys.path.append('../emulator')\n",
    "sys.path.append('../remote')\n",
    "import numpy as np\n",
    "import matplotlib.pyplot as plt\n",
    "import emulator\n",
    "import entropy\n",
    "import binutils\n",
    "import allanvariance\n",
    "import lsne\n",
    "import fluart\n",
    "import regmap\n",
    "import frequency"
   ]
  },
  {
   "cell_type": "markdown",
   "id": "d2ceb083",
   "metadata": {},
   "source": [
    "# Emulate noisy ring-oscillators"
   ]
  },
  {
   "cell_type": "markdown",
   "id": "aa924fd5",
   "metadata": {},
   "source": [
    "🔁 Ring oscillators consist of a series of inverters arranged to produce a periodic signal that inherently includes phase noise, commonly referred to as jitter."
   ]
  },
  {
   "cell_type": "markdown",
   "id": "649c66ca",
   "metadata": {},
   "source": [
    "![Ring-Oscillator](img/ringo.png)"
   ]
  },
  {
   "cell_type": "markdown",
   "id": "dd1d4c6c",
   "metadata": {},
   "source": [
    "Generate **10,000,000** periods for two ring-oscillators at **99MHz** and **98MHz** with noise mix as measured in **Xilinx Artix-7** FPGA at 100MHz"
   ]
  },
  {
   "cell_type": "code",
   "execution_count": null,
   "id": "ee164400",
   "metadata": {},
   "outputs": [],
   "source": [
    "ro0 = emulator.generate_periods(emulator.GENPERIODS, 99e6, emulator.A1_F100M, emulator.A2_F100M)\n",
    "ro1 = emulator.generate_periods(emulator.GENPERIODS, 98e6, emulator.A1_F100M, emulator.A2_F100M)"
   ]
  },
  {
   "cell_type": "code",
   "execution_count": null,
   "id": "a3816ec0",
   "metadata": {},
   "outputs": [],
   "source": [
    "ro0[-3:]"
   ]
  },
  {
   "cell_type": "markdown",
   "id": "a942a09c",
   "metadata": {},
   "source": [
    "Plot **period distribution** for both ROs and display mean value as well as its standard deviation"
   ]
  },
  {
   "cell_type": "code",
   "execution_count": null,
   "id": "c5e9f029-867c-410e-87fa-357db1ea043a",
   "metadata": {},
   "outputs": [],
   "source": [
    "plt.hist(ro0[1:], bins=1000, label='RO0', alpha=0.75)\n",
    "plt.hist(ro1[1:], bins=1000, label='RO1', alpha=0.75)\n",
    "plt.legend()\n",
    "plt.title(\"Emulated RO period distribution\")\n",
    "plt.xlabel(\"RO period (s)\")\n",
    "plt.ylabel(\"Occurrence\")\n",
    "print(\"RO0: μ={:} σ={:}\".format(np.mean(ro0), np.std(ro0)))\n",
    "print(\"RO1: μ={:} σ={:}\".format(np.mean(ro1), np.std(ro1)))"
   ]
  },
  {
   "cell_type": "markdown",
   "id": "15b620a4",
   "metadata": {},
   "source": [
    "# Emulate Raw Random Numbers"
   ]
  },
  {
   "cell_type": "markdown",
   "id": "1e975162",
   "metadata": {},
   "source": [
    "❓ **How do we create true randomness in hardware**? Sampling the phase noise of ring oscillators is a strong candidate for the physical entropy source in a TRNG. By **sampling a free running ring-oscillator** with an unsynchronized clock, random bits can be generated.\n",
    "\n",
    "This technique leverages the inherent **unpredictability of thermal and flicker noise in transistors**, providing a robust foundation for secure random number generation."
   ]
  },
  {
   "cell_type": "markdown",
   "id": "c4d8c10e",
   "metadata": {},
   "source": [
    "## Elementary Ring-Oscillator"
   ]
  },
  {
   "cell_type": "markdown",
   "id": "5932b909",
   "metadata": {},
   "source": [
    "🌌 The **Elementary Ring-Oscillator** (ERO) is straightforward to implement but has a slower output rate."
   ]
  },
  {
   "cell_type": "markdown",
   "id": "9af12f41",
   "metadata": {},
   "source": [
    "![ERO](img/ero.png)"
   ]
  },
  {
   "cell_type": "markdown",
   "id": "ae4763aa",
   "metadata": {},
   "source": [
    "As we are samplling unsynchronized signal with each other, Electronic Design Automation (EDA) tools cannot garantee timing constraints. We have to take into account the event of sampling while data (RO1) is changing."
   ]
  },
  {
   "cell_type": "markdown",
   "id": "01fceec7",
   "metadata": {},
   "source": [
    "![Setup and hold times](img/setuphold.png)"
   ]
  },
  {
   "cell_type": "markdown",
   "id": "3c937b0c",
   "metadata": {},
   "source": [
    "**Setup and hold** times as in Xilinx Artix-7 datasheet"
   ]
  },
  {
   "cell_type": "code",
   "execution_count": null,
   "id": "fcc89a88-ed3c-4ac0-af36-c4a8f77e518e",
   "metadata": {},
   "outputs": [],
   "source": [
    "ts = 0.11e-9\n",
    "th = 0.18e-9"
   ]
  },
  {
   "cell_type": "markdown",
   "id": "097c0c8d",
   "metadata": {},
   "source": [
    "**Generate random bits** with the ERO, in order to accumulate enough noise we use a division factor of 1000"
   ]
  },
  {
   "cell_type": "code",
   "execution_count": null,
   "id": "3f6c4de5",
   "metadata": {},
   "outputs": [],
   "source": [
    "div = 1000\n",
    "bits, valid, resolved = emulator.ero(div, ro0, ro1, ts, th)"
   ]
  },
  {
   "cell_type": "markdown",
   "id": "5d4a7a38",
   "metadata": {},
   "source": [
    "Plot the first 100 generated **Raw Random Numbers** (bits) and display the bias"
   ]
  },
  {
   "cell_type": "code",
   "execution_count": null,
   "id": "31777d9f",
   "metadata": {},
   "outputs": [],
   "source": [
    "plt.step(range(100), bits[:100])\n",
    "plt.title(\"Emulated ERO raw random bits\")\n",
    "plt.xlabel(\"Samples\")\n",
    "plt.ylabel(\"Binary value\")\n",
    "plt.yticks([0, 1])\n",
    "print(\"Bias: {:}\".format(np.mean(bits)))"
   ]
  },
  {
   "cell_type": "markdown",
   "id": "f5dc22b1",
   "metadata": {},
   "source": [
    "Estimate the **entropy** of the generated bitstream"
   ]
  },
  {
   "cell_type": "code",
   "execution_count": null,
   "id": "e12ced8c",
   "metadata": {},
   "outputs": [],
   "source": [
    "print(\"Shannon entropy:          {:}\".format(entropy.shannon(bits)))\n",
    "print(\"Markov entropy estimator: {:}\".format(entropy.markov(bits)))\n",
    "print(\"MCV entropy estimator:    {:}\".format(entropy.mcv(bits)))"
   ]
  },
  {
   "cell_type": "markdown",
   "id": "3a2b9597",
   "metadata": {},
   "source": [
    "Ratio of bit sampled while **valid timing** constraints"
   ]
  },
  {
   "cell_type": "code",
   "execution_count": null,
   "id": "8b50d2dd",
   "metadata": {},
   "outputs": [],
   "source": [
    "np.sum(valid)/len(bits)"
   ]
  },
  {
   "cell_type": "markdown",
   "id": "840bee68",
   "metadata": {},
   "source": [
    "## Multi Ring-Oscillators"
   ]
  },
  {
   "cell_type": "markdown",
   "id": "f9953a55",
   "metadata": {},
   "source": [
    "🚩 The **Multi Ring-Oscillators** (MURO) delivers higher entropy throughput and output rates but introduces greater design complexity and a potential risk of locking."
   ]
  },
  {
   "cell_type": "markdown",
   "id": "be04c161",
   "metadata": {},
   "source": [
    "![MURO](img/muro.png)"
   ]
  },
  {
   "cell_type": "markdown",
   "id": "5deb23be",
   "metadata": {},
   "source": [
    "For the MURO (t=4) we replace RO1 with multiple ring-oscillators, here **4 ROs from 96MHz to 99MHz**"
   ]
  },
  {
   "cell_type": "code",
   "execution_count": null,
   "id": "07c1e40a",
   "metadata": {},
   "outputs": [],
   "source": [
    "fx = [96e6, 97e6, 98e6, 99e6]\n",
    "t = len(fx)\n",
    "rox = np.empty((0, emulator.GENPERIODS))\n",
    "for f in fx[1:]:\n",
    "    ro = emulator.generate_periods(emulator.GENPERIODS, f, emulator.A1_F100M, emulator.A2_F100M)\n",
    "    rox = np.vstack((rox, ro))"
   ]
  },
  {
   "cell_type": "markdown",
   "id": "333a420d",
   "metadata": {},
   "source": [
    "**Generate** the random bits"
   ]
  },
  {
   "cell_type": "code",
   "execution_count": null,
   "id": "3c1eeb4b",
   "metadata": {},
   "outputs": [],
   "source": [
    "bits, valid, resolved = emulator.muro(div, rox[0], rox[1:], ts, th)"
   ]
  },
  {
   "cell_type": "markdown",
   "id": "aee32bca",
   "metadata": {},
   "source": [
    "Plot the first 100 generated **Raw Random Numbers** (bits) and display the bias"
   ]
  },
  {
   "cell_type": "code",
   "execution_count": null,
   "id": "738d3850",
   "metadata": {},
   "outputs": [],
   "source": [
    "plt.step(range(100), bits[:100])\n",
    "plt.title(\"Emulated MURO (t={:d}) Raw random bits\".format(t))\n",
    "plt.xlabel(\"Samples\")\n",
    "plt.ylabel(\"Binary value\")\n",
    "plt.yticks([0, 1])\n",
    "print(\"Bias: {:}\".format(np.mean(bits)))"
   ]
  },
  {
   "cell_type": "markdown",
   "id": "e4b5a08c",
   "metadata": {},
   "source": [
    "Estimate the **entropy** of the generated bitstream"
   ]
  },
  {
   "cell_type": "code",
   "execution_count": null,
   "id": "2eaf49fd",
   "metadata": {},
   "outputs": [],
   "source": [
    "print(\"Shannon entropy:          {:}\".format(entropy.shannon(bits)))\n",
    "print(\"Markov entropy estimator: {:}\".format(entropy.markov(bits)))\n",
    "print(\"MCV entropy estimator:    {:}\".format(entropy.mcv(bits)))"
   ]
  },
  {
   "cell_type": "markdown",
   "id": "12ddaca7",
   "metadata": {},
   "source": [
    "Ratio of bit sampled while **valid timing** constraints"
   ]
  },
  {
   "cell_type": "code",
   "execution_count": null,
   "id": "74996bb7",
   "metadata": {},
   "outputs": [],
   "source": [
    "np.sum((2-valid)%2 == 0)/len(bits)"
   ]
  },
  {
   "cell_type": "markdown",
   "id": "24f27263",
   "metadata": {},
   "source": [
    "## Coherent Sampling Ring-Oscillator"
   ]
  },
  {
   "cell_type": "markdown",
   "id": "de91360f",
   "metadata": {},
   "source": [
    "🚀 Meanwhile, the **Coherent Sampling Ring-Oscillator** (COSO) stands out with its high output rate, intrinsic alarms, and built-in online entropy monitoring."
   ]
  },
  {
   "cell_type": "markdown",
   "id": "86b53442",
   "metadata": {},
   "source": [
    "![COSO](img/coso.png)"
   ]
  },
  {
   "cell_type": "markdown",
   "id": "7299a449",
   "metadata": {},
   "source": [
    "Generate COSO **raw counter** values"
   ]
  },
  {
   "cell_type": "code",
   "execution_count": null,
   "id": "135d1eb2",
   "metadata": {},
   "outputs": [],
   "source": [
    "counter = emulator.coso(ro0, ro1)"
   ]
  },
  {
   "cell_type": "markdown",
   "id": "fb4e1be8",
   "metadata": {},
   "source": [
    "Plot the counter **distribution** and measure their mean value"
   ]
  },
  {
   "cell_type": "code",
   "execution_count": null,
   "id": "a07e88c9",
   "metadata": {},
   "outputs": [],
   "source": [
    "plt.hist(counter, bins=np.max(counter))\n",
    "plt.title(\"Emulated COSO raw counter distribution\")\n",
    "plt.xlabel(\"Counter values\")\n",
    "plt.ylabel(\"Occurrence\")\n",
    "print(\"Mean counter value: {:}\".format(np.mean(counter)))"
   ]
  },
  {
   "cell_type": "markdown",
   "id": "e6452922",
   "metadata": {},
   "source": [
    "Extract the **Raw Random Numbers** (bits) by selecting the less significant bit (LSB)"
   ]
  },
  {
   "cell_type": "code",
   "execution_count": null,
   "id": "3dbb8753",
   "metadata": {},
   "outputs": [],
   "source": [
    "bits = counter % 2"
   ]
  },
  {
   "cell_type": "markdown",
   "id": "f09aeafc",
   "metadata": {},
   "source": [
    "Plot the first 100 generated **RRN** and display the bias"
   ]
  },
  {
   "cell_type": "code",
   "execution_count": null,
   "id": "0a9d0835",
   "metadata": {},
   "outputs": [],
   "source": [
    "limit = 100\n",
    "plt.step(range(limit), bits[:limit])\n",
    "plt.title(\"Emulated COSO Raw Random bits\")\n",
    "plt.xlabel(\"Samples\")\n",
    "plt.ylabel(\"Binary value\")\n",
    "plt.yticks([0, 1])\n",
    "print(\"Bias: {:}\".format(np.mean(bits)))"
   ]
  },
  {
   "cell_type": "markdown",
   "id": "4652e61b",
   "metadata": {},
   "source": [
    "# HDL simulation"
   ]
  },
  {
   "cell_type": "markdown",
   "id": "cfd83775",
   "metadata": {},
   "source": [
    "🟢🟡🔴 OpenTRNG includes hardware description files written in **VHDL** along with dedicated **testbenches** for validation. The testbenches are written in Python using the *Cocotb* framework, ensuring a flexible verification process (*Cocotb* is language and simulator agnostic)."
   ]
  },
  {
   "cell_type": "markdown",
   "id": "8fb78f16",
   "metadata": {},
   "source": [
    "Additionally, the RRN emulators act as a **golden reference model** for HDL simulations, providing a *bit-true* baseline for comparison."
   ]
  },
  {
   "cell_type": "markdown",
   "id": "99243d21",
   "metadata": {},
   "source": [
    "![HDL simulation](img/simulation.png)"
   ]
  },
  {
   "cell_type": "markdown",
   "id": "b893fe15",
   "metadata": {},
   "source": [
    "Example of COSO digital design **simulation** output test cases"
   ]
  },
  {
   "cell_type": "markdown",
   "id": "dcdadead",
   "metadata": {},
   "source": [
    "```\n",
    "********************************************************************\n",
    "** TEST                                     STATUS  SIM TIME (ns) **\n",
    "********************************************************************\n",
    "** test_ptrng.test_coso_onlinetest_valid     PASS       11510.00  **\n",
    "** test_ptrng.test_coso_conditioning         PASS        1380.00  **\n",
    "** test_ptrng.test_coso_onlinetest_invalid   PASS       11500.00  **\n",
    "** test_ptrng.test_coso_alarm                PASS        1000.00  **\n",
    "********************************************************************\n",
    "** TESTS=4 PASS=4 FAIL=0 SKIP=0                         25390.00  **\n",
    "********************************************************************\n",
    "```"
   ]
  },
  {
   "cell_type": "markdown",
   "id": "cd15f065",
   "metadata": {},
   "source": [
    "Unfortunately, no demo possible in Jupyter notebook 😉"
   ]
  },
  {
   "cell_type": "markdown",
   "id": "8960c16c",
   "metadata": {},
   "source": [
    "# Hardware"
   ]
  },
  {
   "cell_type": "markdown",
   "id": "25abba0e",
   "metadata": {},
   "source": [
    "## Generate random bits with the COSO"
   ]
  },
  {
   "cell_type": "markdown",
   "id": "0cf069ed",
   "metadata": {},
   "source": [
    "👉 Let's have a **demo** of OpenTRNG running the **COSO** entropy source on a Xilinx Artix-7 **FPGA** demo board!"
   ]
  },
  {
   "cell_type": "markdown",
   "id": "03cd10ca",
   "metadata": {},
   "source": [
    "OpenTRNG provides all the essential hardware files needed to interface the PTRNG with a remote computer. It enables full control of the TRNG through configuration and status registers while allowing retrieval of generated random bitstreams (or RRN/IRN) from the hardware."
   ]
  },
  {
   "cell_type": "markdown",
   "id": "e17ae68b",
   "metadata": {},
   "source": [
    "![Hardware top-level](img/toplevel.png)"
   ]
  },
  {
   "cell_type": "markdown",
   "id": "75e5d5fe",
   "metadata": {},
   "source": [
    "Open the **connection** to OpenTRNG remote device"
   ]
  },
  {
   "cell_type": "code",
   "execution_count": null,
   "id": "37f715cf",
   "metadata": {},
   "outputs": [],
   "source": [
    "interface = fluart.CmdProc()\n",
    "trng = regmap.RegMap(interface)"
   ]
  },
  {
   "cell_type": "markdown",
   "id": "9a02d243",
   "metadata": {},
   "source": [
    "**Configure** the TRNG registers for COSO operation"
   ]
  },
  {
   "cell_type": "code",
   "execution_count": null,
   "id": "1875f53f",
   "metadata": {},
   "outputs": [],
   "source": [
    "trng.control_bf.reset = 1        # Reset the TRNG\n",
    "trng.control_bf.conditioning = 0 # No conditionning, access to RRN\n",
    "trng.fifoctrl_bf.nopacking = 0   # Activate bit backing for reading binary stream\n",
    "trng.ring_bf.en = 0x3            # Enable RO0 and RO1\n",
    "trng.fifoctrl_bf.clear = 1       # Clear the FIFO buffer\n",
    "burstsize = trng.fifoctrl_bf.burstsize"
   ]
  },
  {
   "cell_type": "markdown",
   "id": "97b7a6b6",
   "metadata": {},
   "source": [
    "Measure RO0 and RO1 **frequency**"
   ]
  },
  {
   "cell_type": "code",
   "execution_count": null,
   "id": "66cba292",
   "metadata": {},
   "outputs": [],
   "source": [
    "trng.freqctrl_bf.en = 1\n",
    "f0 = frequency.read(trng, 0)\n",
    "f1 = frequency.read(trng, 1)\n",
    "trng.freqctrl_bf.en = 0\n",
    "print(\"RO0: {:f} MHz\".format(f0))\n",
    "print(\"RO1: {:f} MHz\".format(f1))"
   ]
  },
  {
   "cell_type": "markdown",
   "id": "d1a9af56",
   "metadata": {},
   "source": [
    "Read **1Mbit of RRN** generated by the COSO"
   ]
  },
  {
   "cell_type": "code",
   "execution_count": null,
   "id": "cc8ea9ab",
   "metadata": {},
   "outputs": [],
   "source": [
    "bytes = []\n",
    "while len(bytes)*8 < 1_000_000:\n",
    "\tbytes += interface.burstread(trng.FIFODATA_ADDR, burstsize)\n",
    "bits = binutils.to_bits(bytes)"
   ]
  },
  {
   "cell_type": "markdown",
   "id": "98b180d5",
   "metadata": {},
   "source": [
    "Plot the first 100 generated **RRN** (bits) and display the bias"
   ]
  },
  {
   "cell_type": "code",
   "execution_count": null,
   "id": "eb49b48a",
   "metadata": {},
   "outputs": [],
   "source": [
    "limit = 100\n",
    "plt.step(range(limit), bits[:limit])\n",
    "plt.title(\"Hardware COSO raw random bits\")\n",
    "plt.xlabel(\"Samples\")\n",
    "plt.ylabel(\"Binary value\")\n",
    "plt.yticks([0, 1])\n",
    "print(\"Bias: {:}\".format(np.mean(bits)))"
   ]
  },
  {
   "cell_type": "markdown",
   "id": "9094c756",
   "metadata": {},
   "source": [
    "Estimate generated **entropy**"
   ]
  },
  {
   "cell_type": "code",
   "execution_count": null,
   "id": "fae8259a",
   "metadata": {},
   "outputs": [],
   "source": [
    "print(\"Shannon entropy:          {:}\".format(entropy.shannon(bits)))\n",
    "print(\"Markov entropy estimator: {:}\".format(entropy.markov(bits)))\n",
    "print(\"MCV entropy estimator:    {:}\".format(entropy.mcv(bits)))"
   ]
  },
  {
   "cell_type": "markdown",
   "id": "c3dd08e3",
   "metadata": {},
   "source": [
    "## Extraction of noise parameters"
   ]
  },
  {
   "cell_type": "markdown",
   "id": "6c81237f",
   "metadata": {},
   "source": [
    "Reset the COSO and read **100,000 raw counter values** from the device"
   ]
  },
  {
   "cell_type": "code",
   "execution_count": null,
   "id": "47e3f8ab",
   "metadata": {},
   "outputs": [],
   "source": [
    "trng.control_bf.reset = 1        # Reset the TRNG\n",
    "trng.control_bf.conditioning = 0 # No conditionning, access to RRN\n",
    "trng.fifoctrl_bf.nopacking = 1   # Disable bit backing for reading counter values\n",
    "trng.ring_bf.en = 0x3            # Enable RO0 and RO1\n",
    "trng.fifoctrl_bf.clear = 1       # Clear the FIFO buffer"
   ]
  },
  {
   "cell_type": "markdown",
   "id": "c15f2c3e",
   "metadata": {},
   "source": [
    "Read **100,000 Raw counter values** from the COSO device"
   ]
  },
  {
   "cell_type": "code",
   "execution_count": null,
   "id": "a73c4f20",
   "metadata": {},
   "outputs": [],
   "source": [
    "bytes = []\n",
    "while len(bytes)/4 < 100_000:\n",
    "\tbytes += interface.burstread(trng.FIFODATA_ADDR, burstsize)\n",
    "counter = [int.from_bytes(bytes[i:i+4], 'big') for i in range(0, len(bytes), 4)]"
   ]
  },
  {
   "cell_type": "markdown",
   "id": "8c49e272",
   "metadata": {},
   "source": [
    "Plot the COSO counter **distribution**"
   ]
  },
  {
   "cell_type": "code",
   "execution_count": null,
   "id": "1c3bf58d",
   "metadata": {},
   "outputs": [],
   "source": [
    "plt.hist(counter, bins=50)\n",
    "plt.title(\"Hardware COSO Raw counter distribution\")\n",
    "plt.xlabel(\"Counter values\")\n",
    "plt.ylabel(\"Occurrence\")\n",
    "print(\"Mean counter value: {:}\".format(np.mean(counter)))"
   ]
  },
  {
   "cell_type": "markdown",
   "id": "92553f07",
   "metadata": {},
   "source": [
    "Extract the **noise coefficients** for the thermal and flicker noise read from the COSO counter values by computing its **Allan's Variance**"
   ]
  },
  {
   "cell_type": "code",
   "execution_count": null,
   "id": "10f61db0",
   "metadata": {},
   "outputs": [],
   "source": [
    "# Compute Allan's variance\n",
    "nspace, allanvar = allanvariance.compute(counter)\n",
    "\n",
    "# Do the polynomial regression LSNE (np.polyfit only fit values in high decades)\n",
    "poly = lsne.regression(nspace, allanvar, [2, 1, 0])\n",
    "print(\"Extracted coefficients:\")\n",
    "print(\" - thermal: {:e}\".format(poly[1]))\n",
    "print(\" - flicker: {:e}\".format(poly[0]))\n",
    "\n",
    "# Plot in log/log\n",
    "plt.title(\"Noise thermal/flicker noise mix\\n (Xilinx Artix 7 at 100 MHz)\")\n",
    "plt.xscale('log')\n",
    "plt.yscale('log')\n",
    "plt.xlabel('N (accumulation)')\n",
    "plt.ylabel('Normalized variance')\n",
    "plt.grid(visible=True, which='major', axis='both')\n",
    "plt.plot(nspace, allanvar, marker='+')\n",
    "plt.plot(nspace, np.polyval(poly, nspace), color='red')\n",
    "plt.legend(['Variance','Polynomial fit'])"
   ]
  },
  {
   "cell_type": "markdown",
   "id": "e0848b8e",
   "metadata": {},
   "source": [
    "# Conclusion"
   ]
  },
  {
   "cell_type": "markdown",
   "id": "5aef60aa",
   "metadata": {},
   "source": [
    "👉 The OpenTRNG framework streamlines the development and testing of Physical **True Random Number Generators** (PTRNGs).\n",
    "\n",
    "* The **emulators** accurately model thermal and flicker noise as they appear in the targeted hardware, ensuring realistic randomness generation.\n",
    "* The provided HDL **implementations** can be simulated, verified against the RRN golden model from the emulator, and deployed on FPGA or ASIC platforms.\n",
    "* **Validation tools** assess entropy levels and estimate noise coefficients, enabling precise characterization of components across different technology nodes."
   ]
  },
  {
   "cell_type": "markdown",
   "id": "5b6b55ae",
   "metadata": {},
   "source": [
    "![OpenTRNG work-flow](img/workflow.png)"
   ]
  },
  {
   "cell_type": "markdown",
   "id": "4dc12bb5",
   "metadata": {},
   "source": [
    "🙏 Feel free to test, use and improve it!\n",
    "\n",
    "http://opentrng.org"
   ]
  }
 ],
 "metadata": {
  "kernelspec": {
   "display_name": "Python 3",
   "language": "python",
   "name": "python3"
  },
  "language_info": {
   "codemirror_mode": {
    "name": "ipython",
    "version": 3
   },
   "file_extension": ".py",
   "mimetype": "text/x-python",
   "name": "python",
   "nbconvert_exporter": "python",
   "pygments_lexer": "ipython3",
   "version": "3.12.7"
  }
 },
 "nbformat": 4,
 "nbformat_minor": 5
}
